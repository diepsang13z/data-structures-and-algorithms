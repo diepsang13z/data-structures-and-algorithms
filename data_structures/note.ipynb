{
 "cells": [
  {
   "cell_type": "markdown",
   "metadata": {},
   "source": [
    "# Python Data Structures and Time Complexities"
   ]
  },
  {
   "cell_type": "markdown",
   "metadata": {},
   "source": [
    "## List"
   ]
  },
  {
   "cell_type": "markdown",
   "metadata": {},
   "source": [
    "Internally, a list is represented as an array; the largest costs come from: \n",
    "- Growing beyond the current allocation size (because everything must move)\n",
    "- Inserting\n",
    "- Deleting somewhere near the beginning (because everything after that must move).\n",
    "\n",
    "Note that slicing a list is O(k) where k is the length of the slice (since slicing is just “copying part of the list” so the time complexity is the same as a copy). If you need to add/remove at both ends, consider using a collections.deque instead."
   ]
  },
  {
   "cell_type": "markdown",
   "metadata": {},
   "source": [
    "**Python Time Complexities**"
   ]
  },
  {
   "cell_type": "markdown",
   "metadata": {},
   "source": [
    "<div style=\"text-align: center; padding: 10px; margin: 20px auto; width: fit-content;\">\n",
    "    <img \n",
    "        src=\"https://aman.ai/code/assets/data-structures/deque.jpg\" \n",
    "        style=\"width: 70%;\"\n",
    "    />\n",
    "</div>"
   ]
  },
  {
   "cell_type": "markdown",
   "metadata": {},
   "source": [
    "### String"
   ]
  },
  {
   "cell_type": "markdown",
   "metadata": {},
   "source": [
    "Note that since strings are immutable, a new string is created whenever an operation on the input string (say, str.replace()) is performed. \n",
    "\n",
    "Further, similar to lists, slicing a string is O(k) where k is the length of the slice (since slicing is just “copying part of the string” so the time complexity is the same as a copy). \n",
    "\n",
    "A string is also an iterable, so the time complexities are for other usual operations are similar to that of a list."
   ]
  },
  {
   "cell_type": "markdown",
   "metadata": {},
   "source": [
    "## Stack\n",
    "\n",
    "<div style=\"text-align: center; padding: 10px; margin: 20px auto; width: fit-content;\">\n",
    "    <img \n",
    "        src=\"https://codefellows.github.io/common_curriculum/data_structures_and_algorithms/Code_401/class-10/resources/images/stack1.PNG\" \n",
    "        style=\"width: 67%;\"\n",
    "    />\n",
    "</div>"
   ]
  },
  {
   "cell_type": "markdown",
   "metadata": {},
   "source": [
    "\n",
    "- A stack follows the last in, first out (LIFO) principle. Unlike an array structure, which allows random access at all the positions, a stack limits the insert (push) and remove (pop) operation to only one end of the data structure, i.e., to the top. A stack also allows us to get the top element in O(1) time.\n",
    "- Though there isn’t an explicit stack class in Python, we can use a list instead. To follow the LIFO principle, inserting and removing operations (append and pop) both occur at the tail of the list (which emulates the top of the stack)."
   ]
  },
  {
   "cell_type": "markdown",
   "metadata": {},
   "source": [
    "Example:"
   ]
  },
  {
   "cell_type": "code",
   "execution_count": 2,
   "metadata": {},
   "outputs": [
    {
     "name": "stdout",
     "output_type": "stream",
     "text": [
      "2\n"
     ]
    },
    {
     "data": {
      "text/plain": [
       "2"
      ]
     },
     "execution_count": 2,
     "metadata": {},
     "output_type": "execute_result"
    }
   ],
   "source": [
    "stack = []       # Empty stack\n",
    "stack.append(1)  # Push 1 onto stack, current stack: [1]\n",
    "stack.append(2)  # Push 2 onto stack, current stack: [1,2]\n",
    "print(stack[-1]) # Print the element at the top, prints \"2\"\n",
    "stack.pop()      # Pop 2 off the stack, current stack: [1]"
   ]
  },
  {
   "cell_type": "markdown",
   "metadata": {},
   "source": [
    "A wrapper class to emulate a stack using list is as follows:"
   ]
  },
  {
   "cell_type": "code",
   "execution_count": 6,
   "metadata": {},
   "outputs": [],
   "source": [
    "class stack:\n",
    "    # By default pass in [] as the initial value\n",
    "    def __init__(self, initVal=[]):\n",
    "        self.stack = initVal\n",
    "\n",
    "    # Push is to append to the tail of the list\n",
    "    def push(self, elem):\n",
    "        self.stack.append(elem)\n",
    "        return self.stack\n",
    "\n",
    "    # Pop is to remove from the tail of the list\n",
    "    def pop(self):\n",
    "        return self.stack.pop(-1)\n",
    "\n",
    "    def checkStack(self):\n",
    "        print(self.stack)\n",
    "\n",
    "    def checkTop(self):\n",
    "        print(self.stack[-1])\n"
   ]
  },
  {
   "cell_type": "markdown",
   "metadata": {},
   "source": [
    "## Queue\n",
    "\n",
    "<div style=\"text-align: center; padding: 10px; margin: 20px auto; width: fit-content;\">\n",
    "    <img \n",
    "        src=\"https://codefellows.github.io/common_curriculum/data_structures_and_algorithms/Code_401/class-10/resources/images/Queue.PNG\"\n",
    "        style=\"width: 90%;\"\n",
    "    />\n",
    "</div>"
   ]
  },
  {
   "cell_type": "markdown",
   "metadata": {},
   "source": [
    "- Similar to a stack, a queue also limits the insertion and removal of elements to specific ends of the data structure. However, unlike a stack, a queue follows the first in, first out (FIFO) principle.\n",
    "- In Python, a queue can also be implemented using a list. In accordance with the FIFO principle, the insertion operation occurs at the tail of the list, while the deletion operation occurs at the head of the list."
   ]
  },
  {
   "cell_type": "markdown",
   "metadata": {},
   "source": [
    "A wrapper class to emulate a queue using a list is as follows:"
   ]
  },
  {
   "cell_type": "code",
   "execution_count": 8,
   "metadata": {},
   "outputs": [],
   "source": [
    "class queue:\n",
    "    # By default pass in [] as the initial value\n",
    "    def __init__(self, initVal=[]):\n",
    "        self.queue = initVal\n",
    "\n",
    "    # Enqueue is append to the tail of the list\n",
    "    def enqueue(self, elem):\n",
    "        self.queue.append(elem)\n",
    "        return self.queue\n",
    "\n",
    "    # Dequeue is to remove from the haed of the list\n",
    "    def dequeue(self):\n",
    "        return self.queue.pop(0)\n",
    "\n",
    "    def checkQueue(self):\n",
    "        print(self.queue)\n",
    "\n",
    "    def checkHead(self):\n",
    "        print(self.queue[0])\n",
    "\n",
    "    def checkTail(self):\n",
    "        print(self.queue[-1])\n"
   ]
  },
  {
   "cell_type": "markdown",
   "metadata": {},
   "source": [
    "### Double-ended Queue (Deque)"
   ]
  },
  {
   "cell_type": "markdown",
   "metadata": {},
   "source": [
    "- In the collections package, Python provides deque, a double-ended queue class. With deque, we can insert and remove from both ends in O(1) time. The deque constructor takes in an iterable – we can pass in an empty list to create an empty deque.\n",
    "- The main methods are append, appendleft, pop and popleft. As the names suggest, append and pop will add and remove elements from the end, whereas appendleft and popleft do the same at the front. In order to emulate a queue, we add from one side and remove from the other.\n",
    "- If you noticed, we can also use deque to emulate a stack: we add and remove from the same side."
   ]
  },
  {
   "cell_type": "code",
   "execution_count": 9,
   "metadata": {},
   "outputs": [],
   "source": [
    "from collections import deque\n",
    "\n",
    "queue = deque([])          # Create an empty deque, current deque: []\n",
    "queue.appendleft(5)        # Add 5 to the front of the queue, current deque: [5]\n",
    "queue.appendleft(1)        # Add 1 to the front of the queue, current deque: [1, 5]\n",
    "element = queue.pop()      # Pop 5 from the end of the queue, current deque: [1]\n",
    "next_element = queue.pop() # Pop 1 from the end of the queue, current deque: []"
   ]
  },
  {
   "cell_type": "markdown",
   "metadata": {},
   "source": [
    "On a different note, a common mistake is using lists as queues. Let’s consider two ways we can use lists as queues. We can add to the front of the list and remove from the end. \n",
    "\n",
    "This requires using [insert] at index 0 and pop. The problem is that inserting an element at the front of a list is O(N), since all the other elements must be shifted to the right"
   ]
  },
  {
   "cell_type": "code",
   "execution_count": 10,
   "metadata": {},
   "outputs": [],
   "source": [
    "queue = [2, 3, 4, 5]\n",
    "queue.insert(0, 1)    # Add 1 at index 0, [1, 2, 3, 4, 5]\n",
    "element = queue.pop() # Pop 5 from the end, [1, 2, 3, 4]"
   ]
  },
  {
   "cell_type": "markdown",
   "metadata": {},
   "source": [
    "Let’s say instead we decided to add at the end and remove from the front."
   ]
  },
  {
   "cell_type": "code",
   "execution_count": 11,
   "metadata": {},
   "outputs": [],
   "source": [
    "queue = [5, 4, 3, 2]\n",
    "queue.append(1)        # Add 1 to the end, [5, 4, 3, 2, 1]\n",
    "element = queue.pop(0) # Pop 5 from the front, [4, 3, 2, 1]"
   ]
  },
  {
   "cell_type": "markdown",
   "metadata": {},
   "source": [
    "The problem still remains, since popping from the front of the list will be O(N) as everything to the right must shift to the left.\n",
    "\n",
    "Even though using lists as queues is fine if the lists are relatively small, using them over the more efficient deque in an interview setting where time complexity is important is not ideal."
   ]
  },
  {
   "cell_type": "markdown",
   "metadata": {},
   "source": [
    "**Python time complexities**"
   ]
  },
  {
   "cell_type": "markdown",
   "metadata": {},
   "source": [
    "A deque (double-ended queue) is represented internally as a doubly linked list. (Well, a list of arrays rather than objects, for greater efficiency.) Both ends are accessible, but even looking at the middle is slow, and adding to or removing from the middle is slower still."
   ]
  },
  {
   "cell_type": "markdown",
   "metadata": {},
   "source": [
    "<div style=\"text-align: center; padding: 10px; margin: 20px auto; width: fit-content;\">\n",
    "    <img src=\"https://aman.ai/code/assets/data-structures/deque.jpg\" \n",
    "        style=\"width: 70%;\"\n",
    "    />\n",
    "</div>"
   ]
  },
  {
   "cell_type": "markdown",
   "metadata": {},
   "source": [
    "## Set"
   ]
  },
  {
   "cell_type": "markdown",
   "metadata": {},
   "source": [
    "- A set object is an unordered collection of distinct hashable objects. It’s one of Python’s built-in types and allows the dynamic adding and removing of elements, iteration, and operations with another set objects.\n",
    "- Here’s some operations on a set:"
   ]
  },
  {
   "cell_type": "code",
   "execution_count": 15,
   "metadata": {},
   "outputs": [
    {
     "name": "stdout",
     "output_type": "stream",
     "text": [
      "1\n",
      "2\n",
      "3\n",
      "False\n",
      "4\n",
      "3\n"
     ]
    }
   ],
   "source": [
    "# Set initialization by passing in a list\n",
    "myset = set([1, 2, 3, 3, 3])\n",
    "\n",
    "# Set initialization using {}\n",
    "myset = {1, 2, 3, 3, 3}\n",
    "\n",
    "# Iteration of set\n",
    "for elem in myset:\n",
    "  print(elem)\n",
    "\n",
    "# Define element\n",
    "elem = 13\n",
    "\n",
    "# Check if ele in set:\n",
    "print(True if elem in myset else False)\n",
    "\n",
    "# Add an element to set:\n",
    "myset.add(elem)\n",
    "\n",
    "# Get length of the set\n",
    "print(len(myset))\n",
    "\n",
    "# Remove an element from set\n",
    "myset.remove(elem)\n",
    "\n",
    "# Get length of the set\n",
    "print(len(myset))"
   ]
  },
  {
   "cell_type": "markdown",
   "metadata": {},
   "source": [
    "Some operations on two sets:"
   ]
  },
  {
   "cell_type": "code",
   "execution_count": 18,
   "metadata": {},
   "outputs": [
    {
     "name": "stdout",
     "output_type": "stream",
     "text": [
      "{1, 2, 3, 4, 5}\n",
      "{1, 2}\n",
      "{3}\n"
     ]
    }
   ],
   "source": [
    "myset1 = {1, 2, 3}\n",
    "myset2 = {1, 2, 4, 5}\n",
    "\n",
    "# union\n",
    "myset = myset1.union(myset2)\n",
    "print(myset)\n",
    "\n",
    "# intersection\n",
    "myset = myset1.intersection(myset2)\n",
    "print(myset)\n",
    "\n",
    "# difference\n",
    "myset = myset1.difference(myset2)\n",
    "print(myset)"
   ]
  },
  {
   "cell_type": "markdown",
   "metadata": {},
   "source": [
    "**Python time complexities**\n",
    "\n",
    "<div style=\"text-align: center; padding: 10px; margin: 20px auto; width: fit-content;\">\n",
    "    <img src=\"https://aman.ai/code/assets/data-structures/set.jpg\" \n",
    "        style=\"width: 87%;\"\n",
    "    />\n",
    "</div>"
   ]
  },
  {
   "cell_type": "markdown",
   "metadata": {},
   "source": [
    "## Dictionary\n",
    "\n",
    "<div style=\"text-align: center; padding: 10px; margin: 20px auto; width: fit-content;\">\n",
    "    <img src=\"https://github.com/khuyentran1401/Efficient_Python_tricks_and_tools_for_data_scientists/blob/master/img/dictionary.png?raw=1\">\n",
    "</div>"
   ]
  },
  {
   "cell_type": "markdown",
   "metadata": {},
   "source": [
    "- A dictionary contains mapping information of (key, value) pairs.\n",
    "- Given a key, the corresponding value can be found in the dictionary. It’s also one of Python’s built-in types. The (key, value) pairs can be dynamically added, removed, and modified. A dictionary also allows iteration through the keys, values, and (key, value) pairs."
   ]
  },
  {
   "cell_type": "code",
   "execution_count": 20,
   "metadata": {},
   "outputs": [
    {
     "name": "stdout",
     "output_type": "stream",
     "text": [
      "2\n",
      "b\n",
      "c\n",
      "2\n",
      "3\n",
      "b 2\n",
      "c 3\n"
     ]
    }
   ],
   "source": [
    "# dictionary initialization using {}\n",
    "mydict = {\n",
    "    'a': 1,\n",
    "    'b': 2,\n",
    "}\n",
    "\n",
    "# Add new (key,value) pair\n",
    "mydict['c'] = 3\n",
    "\n",
    "# Modify existing (key,value) pair\n",
    "mydict['a'] = 5\n",
    "\n",
    "# Remove (key,value) pair\n",
    "mydict.pop('a')\n",
    "\n",
    "# Get length of the dictionary\n",
    "print(len(mydict))\n",
    "\n",
    "# Iteration through keys\n",
    "for key in mydict.keys():\n",
    "    print(key)\n",
    "\n",
    "# Iteration through values\n",
    "for value in mydict.values():\n",
    "    print(value)\n",
    "\n",
    "# Iteration through (key,value) pairs\n",
    "for key, value in mydict.items():\n",
    "    print(key,value)"
   ]
  }
 ],
 "metadata": {
  "kernelspec": {
   "display_name": "Python 3",
   "language": "python",
   "name": "python3"
  },
  "language_info": {
   "codemirror_mode": {
    "name": "ipython",
    "version": 3
   },
   "file_extension": ".py",
   "mimetype": "text/x-python",
   "name": "python",
   "nbconvert_exporter": "python",
   "pygments_lexer": "ipython3",
   "version": "3.12.1"
  }
 },
 "nbformat": 4,
 "nbformat_minor": 2
}
